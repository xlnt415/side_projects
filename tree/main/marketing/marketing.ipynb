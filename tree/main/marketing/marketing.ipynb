{
  "nbformat": 4,
  "nbformat_minor": 0,
  "metadata": {
    "colab": {
      "provenance": [],
      "mount_file_id": "1GbHuFXR9LPUEtQXVVlNN4ZlwEHtCGsJs",
      "authorship_tag": "ABX9TyNYBZHBkVb6TG9s88SnhL7x",
      "include_colab_link": true
    },
    "kernelspec": {
      "name": "python3",
      "display_name": "Python 3"
    },
    "language_info": {
      "name": "python"
    }
  },
  "cells": [
    {
      "cell_type": "markdown",
      "metadata": {
        "id": "view-in-github",
        "colab_type": "text"
      },
      "source": [
        "<a href=\"https://colab.research.google.com/github/xlnt415/side_projects/blob/main/tree/main/marketing/marketing.ipynb\" target=\"_parent\"><img src=\"https://colab.research.google.com/assets/colab-badge.svg\" alt=\"Open In Colab\"/></a>"
      ]
    },
    {
      "cell_type": "code",
      "execution_count": 1,
      "metadata": {
        "id": "zZlPW9nWa6us"
      },
      "outputs": [],
      "source": [
        "import pandas as pd\n",
        "import numpy as np\n",
        "import matplotlib.pyplot as plt\n",
        "import seaborn as sns"
      ]
    },
    {
      "cell_type": "code",
      "source": [
        "mk = pd.read_csv('/content/drive/MyDrive/side_projects_datasets/rawdata/marketing/ifood_df.csv')"
      ],
      "metadata": {
        "id": "_RXoFUmVbOp3"
      },
      "execution_count": 2,
      "outputs": []
    },
    {
      "cell_type": "code",
      "source": [
        "mk.info()"
      ],
      "metadata": {
        "id": "poCN1KKgb034"
      },
      "execution_count": null,
      "outputs": []
    },
    {
      "cell_type": "code",
      "source": [
        "# 컬럼명\t설명\n",
        "# Income\t소득(금액)\n",
        "# Kidhome\t자녀 수\n",
        "# Teenhome\t10대 자녀 수\n",
        "# Recency\t마지막 구매일로부터 경과한 기간(일)\n",
        "# MntWines\t와인 구매 금액\n",
        "# MntFruits\t과일 구매 금액\n",
        "# MntMeatProducts\t고기 제품 구매 금액\n",
        "# MntFishProducts\t어류 제품 구매 금액\n",
        "# MntSweetProducts\t과자 제품 구매 금액\n",
        "# MntGoldProds\t금 제품 구매 금액\n",
        "# NumDealsPurchases\t할인 상품 구매 횟수\n",
        "# NumWebPurchases\t웹상에서의 구매 횟수\n",
        "# NumCatalogPurchases\t카탈로그를 통한 구매 횟수\n",
        "# NumStorePurchases\t상점에서의 구매 횟수\n",
        "# NumWebVisitsMonth\t웹사이트 방문 횟수(월별)\n",
        "# AcceptedCmp3\t제품 캠페인 3에 참여한 여부\n",
        "# AcceptedCmp4\t제품 캠페인 4에 참여한 여부\n",
        "# AcceptedCmp5\t제품 캠페인 5에 참여한 여부\n",
        "# AcceptedCmp1\t제품 캠페인 1에 참여한 여부\n",
        "# AcceptedCmp2\t제품 캠페인 2에 참여한 여부\n",
        "# Complain\t불만 접수 여부\n",
        "# Z_CostContact\t연락 비용\n",
        "# Z_Revenue\t수익\n",
        "# Response\t고객의 응답 여부\n",
        "# Age\t나이\n",
        "# Customer_Days\t고객 가입일로부터 경과한 기간(일)\n",
        "# marital_Divorced\t이혼한 상태 여부\n",
        "# marital_Married\t결혼한 상태 여부\n",
        "# marital_Single\t미혼인 상태 여부\n",
        "# marital_Together\t동거 중인 상태 여부\n",
        "# marital_Widow\t사별한 상태 여부\n",
        "# education_2n Cycle\t2차 교육 수준\n",
        "# education_Basic\t기본 교육 수준\n",
        "# education_Graduation\t대학 졸업 수준\n",
        "# education_Master\t석사 이상 교육 수준\n",
        "# education_PhD\t박사"
      ],
      "metadata": {
        "id": "MHh0NpJob06g"
      },
      "execution_count": 4,
      "outputs": []
    },
    {
      "cell_type": "code",
      "source": [
        "# sns.heatmap(mk.isnull(),yticklabels=False,cbar=False,cmap='Blues') # 결측치 시각화\n",
        "mk.isnull().sum()"
      ],
      "metadata": {
        "id": "GjIq9Gl0b09K"
      },
      "execution_count": null,
      "outputs": []
    },
    {
      "cell_type": "code",
      "source": [
        "# 자녀 유무로 분류하기\n",
        "sg = mk[mk.Kidhome == 0]\n",
        "sg.info()"
      ],
      "metadata": {
        "id": "LItG9y_ob0_k"
      },
      "execution_count": null,
      "outputs": []
    },
    {
      "cell_type": "code",
      "source": [
        "pa = mk[mk.Kidhome > 0]\n",
        "pa.info()"
      ],
      "metadata": {
        "id": "xQ9jLRsqb1Cc"
      },
      "execution_count": null,
      "outputs": []
    },
    {
      "cell_type": "code",
      "source": [
        "import matplotlib.pyplot as plt\n",
        "\n",
        "fig, axes = plt.subplots(1, 2, figsize=(10, 6))  # 1행 2열의 서브플롯 생성\n",
        "\n",
        "# 첫 번째 상자 그림\n",
        "axes[0].boxplot(sg.Age)\n",
        "axes[0].set_title('nochild')\n",
        "axes[0].set_ylabel('age')\n",
        "\n",
        "# 두 번째 상자 그림\n",
        "axes[1].boxplot(pa.Age)\n",
        "axes[1].set_title('yeschild')\n",
        "axes[1].set_ylabel('age')\n",
        "\n",
        "plt.tight_layout()  # 서브플롯 간 간격 조정\n",
        "plt.show()\n"
      ],
      "metadata": {
        "colab": {
          "base_uri": "https://localhost:8080/",
          "height": 607
        },
        "id": "5bcsQGKGb1FI",
        "outputId": "924b6ea4-d51d-468e-ee95-4c704a4112c5"
      },
      "execution_count": 13,
      "outputs": [
        {
          "output_type": "display_data",
          "data": {
            "text/plain": [
              "<Figure size 1000x600 with 2 Axes>"
            ],
            "image/png": "[encoded data removed]"
          },
          "metadata": {}
        }
      ]
    },
    {
      "cell_type": "code",
      "source": [
        "sg.hist()"
      ],
      "metadata": {
        "colab": {
          "base_uri": "https://localhost:8080/"
        },
        "id": "gorww-eJb1Hk",
        "outputId": "375a5ea0-4cff-426e-be10-f3cc729aadb9"
      },
      "execution_count": 15,
      "outputs": [
        {
          "output_type": "execute_result",
          "data": {
            "text/plain": [
              "53.72257053291536"
            ]
          },
          "metadata": {},
          "execution_count": 15
        }
      ]
    },
    {
      "cell_type": "code",
      "source": [],
      "metadata": {
        "id": "Je5DWloxb1KA"
      },
      "execution_count": null,
      "outputs": []
    },
    {
      "cell_type": "code",
      "source": [],
      "metadata": {
        "id": "pmShc6Zgb1My"
      },
      "execution_count": null,
      "outputs": []
    }
  ]
}