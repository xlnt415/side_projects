{
 "cells": [
  {
   "attachments": {},
   "cell_type": "markdown",
   "metadata": {},
   "source": [
    "# 빚을 갚을 거야 말거야\n"
   ]
  },
  {
   "cell_type": "code",
   "execution_count": 2,
   "metadata": {},
   "outputs": [],
   "source": [
    "# 라이브러리\n",
    "import numpy as np\n",
    "import pandas as pd\n",
    "import matplotlib.pyplot as plt\n",
    "import seaborn as sns\n",
    "\n",
    "# matplotlib 한글 폰트 설정\n",
    "plt.rc(\"font\", family=\"Malgun Gothic\")\n"
   ]
  },
  {
   "cell_type": "code",
   "execution_count": null,
   "metadata": {},
   "outputs": [
    {
     "name": "stdout",
     "output_type": "stream",
     "text": [
      "(26162717, 61)\n"
     ]
    }
   ],
   "source": [
    "# file_paths = [\n",
    "#     f\"G:/내 드라이브/side_projects_datasets/rawdata/Bank_Credit_Default/data/train_data/train_data_{i}.pq\"\n",
    "#     for i in range(12)\n",
    "# ]  # 파일 경로 리스트 생성\n",
    "\n",
    "# dfs = []  # 데이터프레임을 저장할 리스트\n",
    "\n",
    "# for file_path in file_paths:\n",
    "#     df = pd.read_parquet(file_path)  # Parquet 파일 열기\n",
    "#     dfs.append(df)  # 데이터프레임을 리스트에 추가\n",
    "\n",
    "# credits = pd.concat(dfs, ignore_index=True)  # 데이터프레임 결합\n",
    "\n",
    "# # 결합된 데이터프레임 확인\n",
    "# print(credits.shape)\n"
   ]
  },
  {
   "cell_type": "code",
   "execution_count": null,
   "metadata": {},
   "outputs": [],
   "source": [
    "# # 데이터 프레임 csv 저장\n",
    "# credits.to_csv(\n",
    "#     r\"G:/내 드라이브/side_projects_datasets/rawdata/Bank_Credit_Default/data/train_data/train_data.csv\",\n",
    "#     index=False,\n",
    "# )\n"
   ]
  },
  {
   "attachments": {},
   "cell_type": "markdown",
   "metadata": {},
   "source": [
    "| Feature                       | Description                                               |\n",
    "| ----------------------------- | --------------------------------------------------------- |\n",
    "| id                            | 신용 신청의 식별자                                        |\n",
    "| rn                            | 신용 이력 내 신용 상품의 순번                             |\n",
    "| pre_since_opened              | 신용 개설일로부터 데이터 수집일의 일 수                   |\n",
    "| pre_since_confirmed           | 신용 정보 확인일로부터 데이터 수집일의 일 수              |\n",
    "| pre_pterm                     | 신용 개설일로부터 대출 종료일의 계획된 일 수              |\n",
    "| pre_fterm                     | 신용 개설일로부터 대출 종료일의 실제 일 수                |\n",
    "| pre_till_pclose               | 데이터 수집일로부터 대출 종료일의 계획된 일 수            |\n",
    "| pre_till_fclose               | 데이터 수집일로부터 대출 종료일의 실제 일 수              |\n",
    "| pre_loans_credit_limit        | 신용 한도                                                 |\n",
    "| pre_loans_next_pay_summ       | 다음 대출 상환액                                          |\n",
    "| pre_loans_outstanding         | 미결제 대출액                                             |\n",
    "| pre_loans_total_overdue       | 현재 미결제 대출액                                        |\n",
    "| pre_loans_max_overdue_sum     | 최대 미결제 대출액                                        |\n",
    "| pre_loans_credit_cost_rate    | 총 대출 비용                                              |\n",
    "| pre_loans5                    | 5일 미만의 연체 건수                                      |\n",
    "| pre_loans530                  | 5~30일 미만의 연체 건수                                   |\n",
    "| pre_loans3060                 | 30~60일 미만의 연체 건수                                  |\n",
    "| pre_loans6090                 | 60~90일 미만의 연체 건수                                  |\n",
    "| pre_loans90                   | 90일 이상 연체 건수                                       |\n",
    "| is_zero_loans_5               | 5일 미만의 연체 건수가 없는 경우의 플래그                 |\n",
    "| is_zero_loans_530             | 5~30일 미만의 연체 건수가 없는 경우의 플래그              |\n",
    "| is_zero_loans_3060            | 30~60일 미만의 연체 건수가 없는 경우의 플래그             |\n",
    "| is_zero_loans_6090            | 60~90일 미만의 연체 건수가 없는 경우의 플래그             |\n",
    "| is_zero_loans90               | 90일 이상 연체 건수가 없는 경우의 플래그                  |\n",
    "| pre_util                      | 미결제 대출액과 신용 한도의 비율                          |\n",
    "| pre_over2limit                | 현재 미결제 대출액과 신용 한도의 비율                     |\n",
    "| pre_maxover2limit             | 최대 미결제 대출액과 신용 한도의 비율                     |\n",
    "| is_zero_util                  | 미결제 대출액과 신용 한도의 비율이 0인 경우의 플래그      |\n",
    "| is_zero_over2limit            | 현재 미결제 대출액과 신용 한도의 비율이 0인 경우의 플래그 |\n",
    "| is_zero_maxover2limit         | 최대 미결제 대출액과 신용 한도의 비율이 0인 경우의 플래그 |\n",
    "| enc*paym*{0…n}                | 지난 n개월의 월별 상환 상태                               |\n",
    "| enc_loans_account_holder_type | 대출과의 관계 유형                                        |\n",
    "| enc_loans_credit_status       | 신용 상태                                                 |\n",
    "| enc_loans_account_cur         | 대출 통화                                                 |\n",
    "| enc_loans_credit_type         | 대출 유형                                                 |\n",
    "| pclose_flag                   | 계획된 대출 종료일의 플래그                               |\n",
    "| fclose_flag                   | 실제 대출 종료일의 플래그                                 |\n"
   ]
  },
  {
   "attachments": {},
   "cell_type": "markdown",
   "metadata": {},
   "source": [
    "## EDA\n"
   ]
  },
  {
   "cell_type": "code",
   "execution_count": 4,
   "metadata": {},
   "outputs": [
    {
     "name": "stdout",
     "output_type": "stream",
     "text": [
      "<class 'pandas.core.frame.DataFrame'>\n",
      "RangeIndex: 26162717 entries, 0 to 26162716\n",
      "Data columns (total 61 columns):\n",
      " #   Column                         Dtype\n",
      "---  ------                         -----\n",
      " 0   id                             int64\n",
      " 1   rn                             int64\n",
      " 2   pre_since_opened               int64\n",
      " 3   pre_since_confirmed            int64\n",
      " 4   pre_pterm                      int64\n",
      " 5   pre_fterm                      int64\n",
      " 6   pre_till_pclose                int64\n",
      " 7   pre_till_fclose                int64\n",
      " 8   pre_loans_credit_limit         int64\n",
      " 9   pre_loans_next_pay_summ        int64\n",
      " 10  pre_loans_outstanding          int64\n",
      " 11  pre_loans_total_overdue        int64\n",
      " 12  pre_loans_max_overdue_sum      int64\n",
      " 13  pre_loans_credit_cost_rate     int64\n",
      " 14  pre_loans5                     int64\n",
      " 15  pre_loans530                   int64\n",
      " 16  pre_loans3060                  int64\n",
      " 17  pre_loans6090                  int64\n",
      " 18  pre_loans90                    int64\n",
      " 19  is_zero_loans5                 int64\n",
      " 20  is_zero_loans530               int64\n",
      " 21  is_zero_loans3060              int64\n",
      " 22  is_zero_loans6090              int64\n",
      " 23  is_zero_loans90                int64\n",
      " 24  pre_util                       int64\n",
      " 25  pre_over2limit                 int64\n",
      " 26  pre_maxover2limit              int64\n",
      " 27  is_zero_util                   int64\n",
      " 28  is_zero_over2limit             int64\n",
      " 29  is_zero_maxover2limit          int64\n",
      " 30  enc_paym_0                     int64\n",
      " 31  enc_paym_1                     int64\n",
      " 32  enc_paym_2                     int64\n",
      " 33  enc_paym_3                     int64\n",
      " 34  enc_paym_4                     int64\n",
      " 35  enc_paym_5                     int64\n",
      " 36  enc_paym_6                     int64\n",
      " 37  enc_paym_7                     int64\n",
      " 38  enc_paym_8                     int64\n",
      " 39  enc_paym_9                     int64\n",
      " 40  enc_paym_10                    int64\n",
      " 41  enc_paym_11                    int64\n",
      " 42  enc_paym_12                    int64\n",
      " 43  enc_paym_13                    int64\n",
      " 44  enc_paym_14                    int64\n",
      " 45  enc_paym_15                    int64\n",
      " 46  enc_paym_16                    int64\n",
      " 47  enc_paym_17                    int64\n",
      " 48  enc_paym_18                    int64\n",
      " 49  enc_paym_19                    int64\n",
      " 50  enc_paym_20                    int64\n",
      " 51  enc_paym_21                    int64\n",
      " 52  enc_paym_22                    int64\n",
      " 53  enc_paym_23                    int64\n",
      " 54  enc_paym_24                    int64\n",
      " 55  enc_loans_account_holder_type  int64\n",
      " 56  enc_loans_credit_status        int64\n",
      " 57  enc_loans_credit_type          int64\n",
      " 58  enc_loans_account_cur          int64\n",
      " 59  pclose_flag                    int64\n",
      " 60  fclose_flag                    int64\n",
      "dtypes: int64(61)\n",
      "memory usage: 11.9 GB\n"
     ]
    }
   ],
   "source": [
    "credits = pd.read_csv(r'G:/내 드라이브/side_projects_datasets/rawdata/Bank_Credit_Default/data/train_data/train_data.csv')\n",
    "\n",
    "credits.info()"
   ]
  },
  {
   "cell_type": "code",
   "execution_count": 5,
   "metadata": {},
   "outputs": [
    {
     "data": {
      "text/plain": [
       "0        1981\n",
       "1       48568\n",
       "2     8276203\n",
       "3    17561773\n",
       "4      201958\n",
       "5       68431\n",
       "6        3803\n",
       "Name: enc_loans_credit_status, dtype: int64"
      ]
     },
     "execution_count": 5,
     "metadata": {},
     "output_type": "execute_result"
    }
   ],
   "source": [
    "cs = credits[\"enc_loans_credit_status\"].value_counts().sort_index()  # 신용등급은 6단계까지 있음\n",
    "cs"
   ]
  },
  {
   "cell_type": "code",
   "execution_count": 8,
   "metadata": {},
   "outputs": [],
   "source": [
    "# 각 변수 이름에 대해 1부터 6까지의 값을 저장\n",
    "for i in range(1, 7):\n",
    "    var_name = f'cs{i}'  # 변수 이름 생성\n",
    "    var_value = cs[cs.index == i]  # 해당 값에 해당하는 인덱스를 추출하여 변수 값으로 저장\n",
    "    locals()[var_name] = var_value  # 생성된 변수를 로컬 네임스페이스에 저장"
   ]
  },
  {
   "cell_type": "code",
   "execution_count": 6,
   "metadata": {},
   "outputs": [
    {
     "data": {
      "text/plain": [
       "Text(0.5, 1.0, '신용등급 분포')"
      ]
     },
     "execution_count": 6,
     "metadata": {},
     "output_type": "execute_result"
    },
    {
     "data": {
      "image/png": "[encoded data removed]",
      "text/plain": [
       "<Figure size 640x480 with 1 Axes>"
      ]
     },
     "metadata": {},
     "output_type": "display_data"
    }
   ],
   "source": [
    "cs.plot.bar()\n",
    "\n",
    "plt.title(\"신용등급 분포\")"
   ]
  },
  {
   "cell_type": "code",
   "execution_count": 7,
   "metadata": {},
   "outputs": [
    {
     "data": {
      "text/plain": [
       "0      756480\n",
       "1      880196\n",
       "2      617386\n",
       "3     7736233\n",
       "4    14774986\n",
       "5     1050346\n",
       "6       36873\n",
       "7      310217\n",
       "Name: enc_loans_credit_type, dtype: int64"
      ]
     },
     "execution_count": 7,
     "metadata": {},
     "output_type": "execute_result"
    }
   ],
   "source": [
    "credits_type = credits[\"enc_loans_credit_type\"].value_counts().sort_index()\n",
    "credits_type"
   ]
  },
  {
   "cell_type": "code",
   "execution_count": 18,
   "metadata": {},
   "outputs": [
    {
     "data": {
      "text/html": [
       "<div>\n",
       "<style scoped>\n",
       "    .dataframe tbody tr th:only-of-type {\n",
       "        vertical-align: middle;\n",
       "    }\n",
       "\n",
       "    .dataframe tbody tr th {\n",
       "        vertical-align: top;\n",
       "    }\n",
       "\n",
       "    .dataframe thead th {\n",
       "        text-align: right;\n",
       "    }\n",
       "</style>\n",
       "<table border=\"1\" class=\"dataframe\">\n",
       "  <thead>\n",
       "    <tr style=\"text-align: right;\">\n",
       "      <th></th>\n",
       "      <th>pre_loans_credit_cost_rate</th>\n",
       "    </tr>\n",
       "    <tr>\n",
       "      <th>enc_loans_credit_status</th>\n",
       "      <th></th>\n",
       "    </tr>\n",
       "  </thead>\n",
       "  <tbody>\n",
       "    <tr>\n",
       "      <th>0</th>\n",
       "      <td>3.553761</td>\n",
       "    </tr>\n",
       "    <tr>\n",
       "      <th>1</th>\n",
       "      <td>4.047706</td>\n",
       "    </tr>\n",
       "    <tr>\n",
       "      <th>2</th>\n",
       "      <td>4.964128</td>\n",
       "    </tr>\n",
       "    <tr>\n",
       "      <th>3</th>\n",
       "      <td>4.468965</td>\n",
       "    </tr>\n",
       "    <tr>\n",
       "      <th>4</th>\n",
       "      <td>3.632221</td>\n",
       "    </tr>\n",
       "    <tr>\n",
       "      <th>5</th>\n",
       "      <td>4.529117</td>\n",
       "    </tr>\n",
       "    <tr>\n",
       "      <th>6</th>\n",
       "      <td>3.851696</td>\n",
       "    </tr>\n",
       "  </tbody>\n",
       "</table>\n",
       "</div>"
      ],
      "text/plain": [
       "                         pre_loans_credit_cost_rate\n",
       "enc_loans_credit_status                            \n",
       "0                                          3.553761\n",
       "1                                          4.047706\n",
       "2                                          4.964128\n",
       "3                                          4.468965\n",
       "4                                          3.632221\n",
       "5                                          4.529117\n",
       "6                                          3.851696"
      ]
     },
     "execution_count": 18,
     "metadata": {},
     "output_type": "execute_result"
    }
   ],
   "source": [
    "cs_el = credits.groupby(\"enc_loans_credit_status\")[\"pre_loans_credit_cost_rate\"].mean()\n",
    "cs_el = pd.DataFrame(cs_el)\n",
    "\n",
    "cs_el"
   ]
  },
  {
   "cell_type": "code",
   "execution_count": 17,
   "metadata": {},
   "outputs": [
    {
     "ename": "KeyError",
     "evalue": "0",
     "output_type": "error",
     "traceback": [
      "\u001b[1;31m---------------------------------------------------------------------------\u001b[0m",
      "\u001b[1;31mKeyError\u001b[0m                                  Traceback (most recent call last)",
      "File \u001b[1;32mc:\\Users\\xlnt\\anaconda3\\envs\\light\\Lib\\site-packages\\pandas\\core\\indexes\\base.py:3802\u001b[0m, in \u001b[0;36mIndex.get_loc\u001b[1;34m(self, key, method, tolerance)\u001b[0m\n\u001b[0;32m   3801\u001b[0m \u001b[39mtry\u001b[39;00m:\n\u001b[1;32m-> 3802\u001b[0m     \u001b[39mreturn\u001b[39;00m \u001b[39mself\u001b[39m\u001b[39m.\u001b[39m_engine\u001b[39m.\u001b[39mget_loc(casted_key)\n\u001b[0;32m   3803\u001b[0m \u001b[39mexcept\u001b[39;00m \u001b[39mKeyError\u001b[39;00m \u001b[39mas\u001b[39;00m err:\n",
      "File \u001b[1;32mc:\\Users\\xlnt\\anaconda3\\envs\\light\\Lib\\site-packages\\pandas\\_libs\\index.pyx:138\u001b[0m, in \u001b[0;36mpandas._libs.index.IndexEngine.get_loc\u001b[1;34m()\u001b[0m\n",
      "File \u001b[1;32mc:\\Users\\xlnt\\anaconda3\\envs\\light\\Lib\\site-packages\\pandas\\_libs\\index.pyx:165\u001b[0m, in \u001b[0;36mpandas._libs.index.IndexEngine.get_loc\u001b[1;34m()\u001b[0m\n",
      "File \u001b[1;32mpandas\\_libs\\hashtable_class_helper.pxi:5745\u001b[0m, in \u001b[0;36mpandas._libs.hashtable.PyObjectHashTable.get_item\u001b[1;34m()\u001b[0m\n",
      "File \u001b[1;32mpandas\\_libs\\hashtable_class_helper.pxi:5753\u001b[0m, in \u001b[0;36mpandas._libs.hashtable.PyObjectHashTable.get_item\u001b[1;34m()\u001b[0m\n",
      "\u001b[1;31mKeyError\u001b[0m: 0",
      "\nThe above exception was the direct cause of the following exception:\n",
      "\u001b[1;31mKeyError\u001b[0m                                  Traceback (most recent call last)",
      "Cell \u001b[1;32mIn[17], line 5\u001b[0m\n\u001b[0;32m      2\u001b[0m \u001b[39mimport\u001b[39;00m \u001b[39mscipy\u001b[39;00m\u001b[39m.\u001b[39;00m\u001b[39mstats\u001b[39;00m \u001b[39mas\u001b[39;00m \u001b[39mstats\u001b[39;00m\n\u001b[0;32m      4\u001b[0m \u001b[39m# anova \u001b[39;00m\n\u001b[1;32m----> 5\u001b[0m stats\u001b[39m.\u001b[39mttest_ind(cs_el[\u001b[39m0\u001b[39m], cs_el[\u001b[39m1\u001b[39m], equal_var\u001b[39m=\u001b[39m\u001b[39mFalse\u001b[39;00m)\n",
      "File \u001b[1;32mc:\\Users\\xlnt\\anaconda3\\envs\\light\\Lib\\site-packages\\pandas\\core\\frame.py:3807\u001b[0m, in \u001b[0;36mDataFrame.__getitem__\u001b[1;34m(self, key)\u001b[0m\n\u001b[0;32m   3805\u001b[0m \u001b[39mif\u001b[39;00m \u001b[39mself\u001b[39m\u001b[39m.\u001b[39mcolumns\u001b[39m.\u001b[39mnlevels \u001b[39m>\u001b[39m \u001b[39m1\u001b[39m:\n\u001b[0;32m   3806\u001b[0m     \u001b[39mreturn\u001b[39;00m \u001b[39mself\u001b[39m\u001b[39m.\u001b[39m_getitem_multilevel(key)\n\u001b[1;32m-> 3807\u001b[0m indexer \u001b[39m=\u001b[39m \u001b[39mself\u001b[39m\u001b[39m.\u001b[39mcolumns\u001b[39m.\u001b[39mget_loc(key)\n\u001b[0;32m   3808\u001b[0m \u001b[39mif\u001b[39;00m is_integer(indexer):\n\u001b[0;32m   3809\u001b[0m     indexer \u001b[39m=\u001b[39m [indexer]\n",
      "File \u001b[1;32mc:\\Users\\xlnt\\anaconda3\\envs\\light\\Lib\\site-packages\\pandas\\core\\indexes\\base.py:3804\u001b[0m, in \u001b[0;36mIndex.get_loc\u001b[1;34m(self, key, method, tolerance)\u001b[0m\n\u001b[0;32m   3802\u001b[0m     \u001b[39mreturn\u001b[39;00m \u001b[39mself\u001b[39m\u001b[39m.\u001b[39m_engine\u001b[39m.\u001b[39mget_loc(casted_key)\n\u001b[0;32m   3803\u001b[0m \u001b[39mexcept\u001b[39;00m \u001b[39mKeyError\u001b[39;00m \u001b[39mas\u001b[39;00m err:\n\u001b[1;32m-> 3804\u001b[0m     \u001b[39mraise\u001b[39;00m \u001b[39mKeyError\u001b[39;00m(key) \u001b[39mfrom\u001b[39;00m \u001b[39merr\u001b[39;00m\n\u001b[0;32m   3805\u001b[0m \u001b[39mexcept\u001b[39;00m \u001b[39mTypeError\u001b[39;00m:\n\u001b[0;32m   3806\u001b[0m     \u001b[39m# If we have a listlike key, _check_indexing_error will raise\u001b[39;00m\n\u001b[0;32m   3807\u001b[0m     \u001b[39m#  InvalidIndexError. Otherwise we fall through and re-raise\u001b[39;00m\n\u001b[0;32m   3808\u001b[0m     \u001b[39m#  the TypeError.\u001b[39;00m\n\u001b[0;32m   3809\u001b[0m     \u001b[39mself\u001b[39m\u001b[39m.\u001b[39m_check_indexing_error(key)\n",
      "\u001b[1;31mKeyError\u001b[0m: 0"
     ]
    }
   ],
   "source": []
  },
  {
   "cell_type": "code",
   "execution_count": null,
   "metadata": {},
   "outputs": [],
   "source": []
  },
  {
   "cell_type": "code",
   "execution_count": null,
   "metadata": {},
   "outputs": [],
   "source": []
  },
  {
   "cell_type": "code",
   "execution_count": null,
   "metadata": {},
   "outputs": [],
   "source": []
  },
  {
   "cell_type": "code",
   "execution_count": null,
   "metadata": {},
   "outputs": [],
   "source": []
  },
  {
   "cell_type": "code",
   "execution_count": null,
   "metadata": {},
   "outputs": [],
   "source": []
  },
  {
   "cell_type": "code",
   "execution_count": null,
   "metadata": {},
   "outputs": [],
   "source": []
  },
  {
   "cell_type": "code",
   "execution_count": null,
   "metadata": {},
   "outputs": [],
   "source": []
  },
  {
   "cell_type": "code",
   "execution_count": null,
   "metadata": {},
   "outputs": [],
   "source": []
  },
  {
   "cell_type": "code",
   "execution_count": null,
   "metadata": {},
   "outputs": [],
   "source": []
  },
  {
   "cell_type": "code",
   "execution_count": null,
   "metadata": {},
   "outputs": [],
   "source": []
  },
  {
   "cell_type": "code",
   "execution_count": null,
   "metadata": {},
   "outputs": [],
   "source": []
  },
  {
   "cell_type": "code",
   "execution_count": null,
   "metadata": {},
   "outputs": [],
   "source": []
  }
 ],
 "metadata": {
  "kernelspec": {
   "display_name": "pycaret",
   "language": "python",
   "name": "python3"
  },
  "language_info": {
   "codemirror_mode": {
    "name": "ipython",
    "version": 3
   },
   "file_extension": ".py",
   "mimetype": "text/x-python",
   "name": "python",
   "nbconvert_exporter": "python",
   "pygments_lexer": "ipython3",
   "version": "3.11.3"
  },
  "orig_nbformat": 4
 },
 "nbformat": 4,
 "nbformat_minor": 2
}
